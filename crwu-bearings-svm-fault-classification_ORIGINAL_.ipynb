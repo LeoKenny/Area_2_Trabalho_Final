{
 "cells": [
  {
   "cell_type": "code",
   "execution_count": null,
   "id": "minimal-flavor",
   "metadata": {
    "_cell_guid": "b1076dfc-b9ad-4769-8c92-a6c4dae69d19",
    "_uuid": "8f2839f25d086af736a60e9eeb907d3b93b6e0e5",
    "execution": {
     "iopub.execute_input": "2021-05-18T18:13:25.131611Z",
     "iopub.status.busy": "2021-05-18T18:13:25.130879Z",
     "iopub.status.idle": "2021-05-18T18:13:26.230183Z",
     "shell.execute_reply": "2021-05-18T18:13:26.230943Z"
    },
    "papermill": {
     "duration": 1.140079,
     "end_time": "2021-05-18T18:13:26.231312",
     "exception": false,
     "start_time": "2021-05-18T18:13:25.091233",
     "status": "completed"
    },
    "tags": []
   },
   "outputs": [],
   "source": [
    "import numpy as np # linear algebra\n",
    "import pandas as pd # data processing, CSV file I/O (e.g. pd.read_csv)\n",
    "\n",
    "from sklearn.model_selection import train_test_split\n",
    "from sklearn.preprocessing import StandardScaler\n",
    "from sklearn.model_selection import GridSearchCV\n",
    "from sklearn.svm import SVC\n",
    "from sklearn.metrics import confusion_matrix,classification_report, accuracy_score\n",
    "\n",
    "import seaborn as sns\n",
    "import matplotlib.pyplot as plt\n",
    "\n",
    "import os\n",
    "for dirname, _, filenames in os.walk('/kaggle/input'):\n",
    "    for filename in filenames:\n",
    "        print(os.path.join(dirname, filename))"
   ]
  },
  {
   "cell_type": "markdown",
   "id": "earned-music",
   "metadata": {
    "papermill": {
     "duration": 0.025122,
     "end_time": "2021-05-18T18:13:26.283159",
     "exception": false,
     "start_time": "2021-05-18T18:13:26.258037",
     "status": "completed"
    },
    "tags": []
   },
   "source": [
    "## Fault type identification\n",
    "There are 10 types of faults, linked to each bearing deffect:\n",
    "\n",
    "- **Ball_007_1**: Ball defect (0.007 inch)\n",
    "- **Ball_014_1**: Ball defect (0.014 inch)\n",
    "- **Ball_021_1**: Ball defect (0.021 inch)\n",
    "- **IR_007_1**: Inner race fault (0.007 inch)\n",
    "- **IR_014_1**: Inner race fault (0.014 inch)\n",
    "- **IR_021_1**: Inner race fault (0.021 inch)\n",
    "- **Normal_1**: Normal\n",
    "- **OR_007_6_1**: Outer race fault (0.007 inch, data collected from 6 O'clock position)\n",
    "- **OR_014_6_1**: Outer race fault (0.014 inch, 6 O'clock)\n",
    "- **OR_021_6_1**: Outer race fault (0.021 inch, 6 O'clock)"
   ]
  },
  {
   "cell_type": "markdown",
   "id": "nuclear-sweden",
   "metadata": {
    "papermill": {
     "duration": 0.024498,
     "end_time": "2021-05-18T18:13:26.333058",
     "exception": false,
     "start_time": "2021-05-18T18:13:26.308560",
     "status": "completed"
    },
    "tags": []
   },
   "source": [
    "## Get the data\n",
    "The file we will read is the result of preprocessing the raw data files (folder `/kaggle/input/cwru-bearing-datasets/raw/`).\n",
    "\n",
    "Time series segments contains 2048 points each. Given that the sampling frequency is 48kHz each time serie covers 0.04 seconds."
   ]
  },
  {
   "cell_type": "code",
   "execution_count": null,
   "id": "unexpected-capability",
   "metadata": {
    "execution": {
     "iopub.execute_input": "2021-05-18T18:13:26.388327Z",
     "iopub.status.busy": "2021-05-18T18:13:26.387630Z",
     "iopub.status.idle": "2021-05-18T18:13:26.446186Z",
     "shell.execute_reply": "2021-05-18T18:13:26.445491Z"
    },
    "papermill": {
     "duration": 0.088338,
     "end_time": "2021-05-18T18:13:26.446360",
     "exception": false,
     "start_time": "2021-05-18T18:13:26.358022",
     "status": "completed"
    },
    "tags": []
   },
   "outputs": [],
   "source": [
    "data_time = pd.read_csv(\"./cwru-bearing-datasets/feature_time_48k_2048_load_1.csv\")\n",
    "data_time"
   ]
  },
  {
   "cell_type": "markdown",
   "id": "realistic-grill",
   "metadata": {
    "papermill": {
     "duration": 0.028438,
     "end_time": "2021-05-18T18:13:26.504329",
     "exception": false,
     "start_time": "2021-05-18T18:13:26.475891",
     "status": "completed"
    },
    "tags": []
   },
   "source": [
    "## Split into train and test datasets"
   ]
  },
  {
   "cell_type": "code",
   "execution_count": null,
   "id": "thrown-house",
   "metadata": {
    "execution": {
     "iopub.execute_input": "2021-05-18T18:13:26.565661Z",
     "iopub.status.busy": "2021-05-18T18:13:26.565023Z",
     "iopub.status.idle": "2021-05-18T18:13:26.578419Z",
     "shell.execute_reply": "2021-05-18T18:13:26.577934Z"
    },
    "papermill": {
     "duration": 0.048429,
     "end_time": "2021-05-18T18:13:26.578553",
     "exception": false,
     "start_time": "2021-05-18T18:13:26.530124",
     "status": "completed"
    },
    "tags": []
   },
   "outputs": [],
   "source": [
    "train_data, test_data = train_test_split(data_time, test_size = 750, stratify = data_time['fault'], random_state = 1234)\n",
    "test_data['fault'].value_counts()"
   ]
  },
  {
   "cell_type": "markdown",
   "id": "anticipated-holocaust",
   "metadata": {
    "papermill": {
     "duration": 0.025314,
     "end_time": "2021-05-18T18:13:26.629658",
     "exception": false,
     "start_time": "2021-05-18T18:13:26.604344",
     "status": "completed"
    },
    "tags": []
   },
   "source": [
    "## Scale features in train set"
   ]
  },
  {
   "cell_type": "code",
   "execution_count": null,
   "id": "brutal-vertical",
   "metadata": {
    "execution": {
     "iopub.execute_input": "2021-05-18T18:13:26.689497Z",
     "iopub.status.busy": "2021-05-18T18:13:26.688915Z",
     "iopub.status.idle": "2021-05-18T18:13:26.737808Z",
     "shell.execute_reply": "2021-05-18T18:13:26.737320Z"
    },
    "papermill": {
     "duration": 0.08182,
     "end_time": "2021-05-18T18:13:26.737968",
     "exception": false,
     "start_time": "2021-05-18T18:13:26.656148",
     "status": "completed"
    },
    "tags": []
   },
   "outputs": [],
   "source": [
    "# Scale each column to have zero mean and standard deviation equal to 1\n",
    "scaler = StandardScaler()\n",
    "train_data_scaled = scaler.fit_transform(train_data.iloc[:,:-1])\n",
    "pd.DataFrame(train_data_scaled).describe()"
   ]
  },
  {
   "cell_type": "code",
   "execution_count": null,
   "id": "composite-retention",
   "metadata": {
    "execution": {
     "iopub.execute_input": "2021-05-18T18:13:26.801395Z",
     "iopub.status.busy": "2021-05-18T18:13:26.800683Z",
     "iopub.status.idle": "2021-05-18T18:13:26.836086Z",
     "shell.execute_reply": "2021-05-18T18:13:26.836598Z"
    },
    "papermill": {
     "duration": 0.071309,
     "end_time": "2021-05-18T18:13:26.836774",
     "exception": false,
     "start_time": "2021-05-18T18:13:26.765465",
     "status": "completed"
    },
    "tags": []
   },
   "outputs": [],
   "source": [
    "test_data_scaled = (test_data.iloc[:,:-1].values - scaler.mean_)/np.sqrt(scaler.var_)\n",
    "pd.DataFrame(test_data_scaled).describe()"
   ]
  },
  {
   "cell_type": "markdown",
   "id": "placed-playback",
   "metadata": {
    "papermill": {
     "duration": 0.027173,
     "end_time": "2021-05-18T18:13:26.891411",
     "exception": false,
     "start_time": "2021-05-18T18:13:26.864238",
     "status": "completed"
    },
    "tags": []
   },
   "source": [
    "## Train a model using Support Vector Classifier\n",
    "Call the SVC() model from sklearn and fit the model to the training data."
   ]
  },
  {
   "cell_type": "code",
   "execution_count": null,
   "id": "normal-arabic",
   "metadata": {
    "execution": {
     "iopub.execute_input": "2021-05-18T18:13:26.951453Z",
     "iopub.status.busy": "2021-05-18T18:13:26.950821Z",
     "iopub.status.idle": "2021-05-18T18:13:26.952436Z",
     "shell.execute_reply": "2021-05-18T18:13:26.952948Z"
    },
    "papermill": {
     "duration": 0.034124,
     "end_time": "2021-05-18T18:13:26.953106",
     "exception": false,
     "start_time": "2021-05-18T18:13:26.918982",
     "status": "completed"
    },
    "tags": []
   },
   "outputs": [],
   "source": [
    "from sklearn.svm import SVC"
   ]
  },
  {
   "cell_type": "code",
   "execution_count": null,
   "id": "analyzed-humor",
   "metadata": {
    "execution": {
     "iopub.execute_input": "2021-05-18T18:13:27.011677Z",
     "iopub.status.busy": "2021-05-18T18:13:27.011097Z",
     "iopub.status.idle": "2021-05-18T18:13:27.056599Z",
     "shell.execute_reply": "2021-05-18T18:13:27.055939Z"
    },
    "papermill": {
     "duration": 0.075977,
     "end_time": "2021-05-18T18:13:27.056776",
     "exception": false,
     "start_time": "2021-05-18T18:13:26.980799",
     "status": "completed"
    },
    "tags": []
   },
   "outputs": [],
   "source": [
    "svc_model = SVC()\n",
    "svc_model.fit(train_data_scaled, train_data['fault'])"
   ]
  },
  {
   "cell_type": "markdown",
   "id": "alternate-point",
   "metadata": {
    "papermill": {
     "duration": 0.028937,
     "end_time": "2021-05-18T18:13:27.113370",
     "exception": false,
     "start_time": "2021-05-18T18:13:27.084433",
     "status": "completed"
    },
    "tags": []
   },
   "source": [
    "## Model Evaluation\n",
    "Now get predictions from the model and create a confusion matrix and a classification report."
   ]
  },
  {
   "cell_type": "code",
   "execution_count": null,
   "id": "associate-lighter",
   "metadata": {
    "execution": {
     "iopub.execute_input": "2021-05-18T18:13:27.181355Z",
     "iopub.status.busy": "2021-05-18T18:13:27.180457Z",
     "iopub.status.idle": "2021-05-18T18:13:27.316265Z",
     "shell.execute_reply": "2021-05-18T18:13:27.316777Z"
    },
    "papermill": {
     "duration": 0.174808,
     "end_time": "2021-05-18T18:13:27.316959",
     "exception": false,
     "start_time": "2021-05-18T18:13:27.142151",
     "status": "completed"
    },
    "tags": []
   },
   "outputs": [],
   "source": [
    "train_predictions = svc_model.predict(train_data_scaled)\n",
    "test_predictions = svc_model.predict(test_data_scaled)"
   ]
  },
  {
   "cell_type": "code",
   "execution_count": null,
   "id": "protecting-assistant",
   "metadata": {
    "execution": {
     "iopub.execute_input": "2021-05-18T18:13:27.378201Z",
     "iopub.status.busy": "2021-05-18T18:13:27.377254Z",
     "iopub.status.idle": "2021-05-18T18:13:27.381829Z",
     "shell.execute_reply": "2021-05-18T18:13:27.381215Z"
    },
    "papermill": {
     "duration": 0.036258,
     "end_time": "2021-05-18T18:13:27.381959",
     "exception": false,
     "start_time": "2021-05-18T18:13:27.345701",
     "status": "completed"
    },
    "tags": []
   },
   "outputs": [],
   "source": [
    "from sklearn.metrics import classification_report,confusion_matrix"
   ]
  },
  {
   "cell_type": "markdown",
   "id": "super-benjamin",
   "metadata": {
    "papermill": {
     "duration": 0.028515,
     "end_time": "2021-05-18T18:13:27.439548",
     "exception": false,
     "start_time": "2021-05-18T18:13:27.411033",
     "status": "completed"
    },
    "tags": []
   },
   "source": [
    "Plot confusion matrixes."
   ]
  },
  {
   "cell_type": "code",
   "execution_count": null,
   "id": "important-cutting",
   "metadata": {
    "execution": {
     "iopub.execute_input": "2021-05-18T18:13:27.509025Z",
     "iopub.status.busy": "2021-05-18T18:13:27.508099Z",
     "iopub.status.idle": "2021-05-18T18:13:27.516966Z",
     "shell.execute_reply": "2021-05-18T18:13:27.516406Z"
    },
    "papermill": {
     "duration": 0.048837,
     "end_time": "2021-05-18T18:13:27.517101",
     "exception": false,
     "start_time": "2021-05-18T18:13:27.468264",
     "status": "completed"
    },
    "tags": []
   },
   "outputs": [],
   "source": [
    "train_confu_matrix = confusion_matrix(train_data['fault'], train_predictions)\n",
    "test_confu_matrix = confusion_matrix(test_data['fault'], test_predictions)"
   ]
  },
  {
   "cell_type": "code",
   "execution_count": null,
   "id": "familiar-purse",
   "metadata": {
    "execution": {
     "iopub.execute_input": "2021-05-18T18:13:27.585689Z",
     "iopub.status.busy": "2021-05-18T18:13:27.585055Z",
     "iopub.status.idle": "2021-05-18T18:13:29.016151Z",
     "shell.execute_reply": "2021-05-18T18:13:29.016611Z"
    },
    "papermill": {
     "duration": 1.469843,
     "end_time": "2021-05-18T18:13:29.016812",
     "exception": false,
     "start_time": "2021-05-18T18:13:27.546969",
     "status": "completed"
    },
    "tags": []
   },
   "outputs": [],
   "source": [
    "fault_type = data_time.fault.unique()\n",
    "\n",
    "plt.figure(1,figsize=(18,8))\n",
    "\n",
    "plt.subplot(121)\n",
    "sns.heatmap(train_confu_matrix, annot= True,fmt = \"d\",\n",
    "xticklabels=fault_type, yticklabels=fault_type, cmap = \"Blues\", cbar = False)\n",
    "plt.title('Training Confusion Matrix')\n",
    "plt.xlabel('Predicted')\n",
    "plt.ylabel('True')\n",
    "plt.subplot(122)\n",
    "\n",
    "plt.subplot(122)\n",
    "sns.heatmap(test_confu_matrix, annot = True,\n",
    "xticklabels=fault_type, yticklabels=fault_type, cmap = \"Blues\", cbar = False)\n",
    "plt.title('Test Confusion Matrix')\n",
    "plt.xlabel('Predicted')\n",
    "plt.ylabel('True')\n",
    "\n",
    "plt.show()"
   ]
  },
  {
   "cell_type": "code",
   "execution_count": null,
   "id": "sunrise-memory",
   "metadata": {
    "execution": {
     "iopub.execute_input": "2021-05-18T18:13:29.101284Z",
     "iopub.status.busy": "2021-05-18T18:13:29.098981Z",
     "iopub.status.idle": "2021-05-18T18:13:29.116645Z",
     "shell.execute_reply": "2021-05-18T18:13:29.116039Z"
    },
    "papermill": {
     "duration": 0.068992,
     "end_time": "2021-05-18T18:13:29.116825",
     "exception": false,
     "start_time": "2021-05-18T18:13:29.047833",
     "status": "completed"
    },
    "tags": []
   },
   "outputs": [],
   "source": [
    "# Classification report (test set)\n",
    "class_report = classification_report(y_pred = test_predictions, y_true = test_data['fault'])\n",
    "print(class_report)"
   ]
  },
  {
   "cell_type": "markdown",
   "id": "intense-paper",
   "metadata": {
    "papermill": {
     "duration": 0.030446,
     "end_time": "2021-05-18T18:13:29.178361",
     "exception": false,
     "start_time": "2021-05-18T18:13:29.147915",
     "status": "completed"
    },
    "tags": []
   },
   "source": [
    "- **recall**    =    para cada fallo, proporción de los correctamente identificados sobre el total de los reales = `TP / (TP + sum(FN))`\n",
    "- **precision** = para cada fallo, proporción de los correctamente identificados sobre el total en la predicción = `TP / (TP + sum(FP))`\n",
    "\n",
    "Refer to [Understanding Data Science Classification Metrics in Scikit-Learn in Python](https://towardsdatascience.com/understanding-data-science-classification-metrics-in-scikit-learn-in-python-3bc336865019) for the explanation of these metrics"
   ]
  },
  {
   "cell_type": "markdown",
   "id": "mobile-phone",
   "metadata": {
    "papermill": {
     "duration": 0.029751,
     "end_time": "2021-05-18T18:13:29.239095",
     "exception": false,
     "start_time": "2021-05-18T18:13:29.209344",
     "status": "completed"
    },
    "tags": []
   },
   "source": [
    "## Tuning hyperparameters for model optimization"
   ]
  },
  {
   "cell_type": "markdown",
   "id": "thermal-details",
   "metadata": {
    "papermill": {
     "duration": 0.030649,
     "end_time": "2021-05-18T18:13:29.300150",
     "exception": false,
     "start_time": "2021-05-18T18:13:29.269501",
     "status": "completed"
    },
    "tags": []
   },
   "source": [
    "We will check a grid of parameters to find the best one. For each parameter combination, 10 fold cross-validation is performed.\n",
    "- Understand what [10 fold cross-validation](https://machinelearningmastery.com/k-fold-cross-validation/) is"
   ]
  },
  {
   "cell_type": "code",
   "execution_count": null,
   "id": "vocal-replica",
   "metadata": {
    "execution": {
     "iopub.execute_input": "2021-05-18T18:13:29.368225Z",
     "iopub.status.busy": "2021-05-18T18:13:29.367563Z",
     "iopub.status.idle": "2021-05-18T18:13:29.370544Z",
     "shell.execute_reply": "2021-05-18T18:13:29.370063Z"
    },
    "papermill": {
     "duration": 0.038778,
     "end_time": "2021-05-18T18:13:29.370688",
     "exception": false,
     "start_time": "2021-05-18T18:13:29.331910",
     "status": "completed"
    },
    "tags": []
   },
   "outputs": [],
   "source": [
    "parameters = {\"C\":[1, 10, 45, 47,49, 50, 51, 55, 100, 300, 500],\n",
    "             'gamma':[0.01, 0.05, 0.1, 0.5, 1, 5],\n",
    "             'kernel':[\"rbf\"]}"
   ]
  },
  {
   "cell_type": "code",
   "execution_count": null,
   "id": "ranging-inspiration",
   "metadata": {
    "execution": {
     "iopub.execute_input": "2021-05-18T18:13:29.438869Z",
     "iopub.status.busy": "2021-05-18T18:13:29.438198Z",
     "iopub.status.idle": "2021-05-18T18:13:29.442492Z",
     "shell.execute_reply": "2021-05-18T18:13:29.442021Z"
    },
    "papermill": {
     "duration": 0.041018,
     "end_time": "2021-05-18T18:13:29.442624",
     "exception": false,
     "start_time": "2021-05-18T18:13:29.401606",
     "status": "completed"
    },
    "tags": []
   },
   "outputs": [],
   "source": [
    "# Define the Grid Search optimization analysis\n",
    "tuned_svm_clf = GridSearchCV(SVC(),parameters,n_jobs = -1, cv= 10)\n",
    "tuned_svm_clf"
   ]
  },
  {
   "cell_type": "code",
   "execution_count": null,
   "id": "retained-report",
   "metadata": {
    "execution": {
     "iopub.execute_input": "2021-05-18T18:13:29.513500Z",
     "iopub.status.busy": "2021-05-18T18:13:29.512884Z",
     "iopub.status.idle": "2021-05-18T18:13:48.380408Z",
     "shell.execute_reply": "2021-05-18T18:13:48.380907Z"
    },
    "papermill": {
     "duration": 18.906536,
     "end_time": "2021-05-18T18:13:48.381073",
     "exception": false,
     "start_time": "2021-05-18T18:13:29.474537",
     "status": "completed"
    },
    "tags": []
   },
   "outputs": [],
   "source": [
    "# Train the move for the every pair of hyperparameters,\n",
    "#   and determine the best combination\n",
    "tuned_svm_clf.fit(train_data_scaled, train_data['fault'])"
   ]
  },
  {
   "cell_type": "code",
   "execution_count": null,
   "id": "exempt-valuation",
   "metadata": {
    "execution": {
     "iopub.execute_input": "2021-05-18T18:13:48.450695Z",
     "iopub.status.busy": "2021-05-18T18:13:48.449962Z",
     "iopub.status.idle": "2021-05-18T18:13:48.453695Z",
     "shell.execute_reply": "2021-05-18T18:13:48.453081Z"
    },
    "papermill": {
     "duration": 0.041682,
     "end_time": "2021-05-18T18:13:48.453834",
     "exception": false,
     "start_time": "2021-05-18T18:13:48.412152",
     "status": "completed"
    },
    "tags": []
   },
   "outputs": [],
   "source": [
    "# Hyperparameter of the best model\n",
    "tuned_svm_clf.best_params_"
   ]
  },
  {
   "cell_type": "code",
   "execution_count": null,
   "id": "artificial-explorer",
   "metadata": {
    "execution": {
     "iopub.execute_input": "2021-05-18T18:13:48.521538Z",
     "iopub.status.busy": "2021-05-18T18:13:48.520617Z",
     "iopub.status.idle": "2021-05-18T18:13:48.524592Z",
     "shell.execute_reply": "2021-05-18T18:13:48.524068Z"
    },
    "papermill": {
     "duration": 0.039193,
     "end_time": "2021-05-18T18:13:48.524711",
     "exception": false,
     "start_time": "2021-05-18T18:13:48.485518",
     "status": "completed"
    },
    "tags": []
   },
   "outputs": [],
   "source": [
    "#Let's select the best model and provide results on them\n",
    "best_clf = tuned_svm_clf.best_estimator_\n",
    "best_clf"
   ]
  },
  {
   "cell_type": "markdown",
   "id": "focal-working",
   "metadata": {
    "papermill": {
     "duration": 0.030744,
     "end_time": "2021-05-18T18:13:48.587081",
     "exception": false,
     "start_time": "2021-05-18T18:13:48.556337",
     "status": "completed"
    },
    "tags": []
   },
   "source": [
    "## Best model evaluation"
   ]
  },
  {
   "cell_type": "code",
   "execution_count": null,
   "id": "bottom-template",
   "metadata": {
    "execution": {
     "iopub.execute_input": "2021-05-18T18:13:48.651650Z",
     "iopub.status.busy": "2021-05-18T18:13:48.651097Z",
     "iopub.status.idle": "2021-05-18T18:13:48.711006Z",
     "shell.execute_reply": "2021-05-18T18:13:48.711524Z"
    },
    "papermill": {
     "duration": 0.093644,
     "end_time": "2021-05-18T18:13:48.711695",
     "exception": false,
     "start_time": "2021-05-18T18:13:48.618051",
     "status": "completed"
    },
    "tags": []
   },
   "outputs": [],
   "source": [
    "# Compute the predictions\n",
    "train_predictions_best = best_clf.predict(train_data_scaled)\n",
    "test_predictions_best = best_clf.predict(test_data_scaled)"
   ]
  },
  {
   "cell_type": "code",
   "execution_count": null,
   "id": "adverse-groove",
   "metadata": {
    "execution": {
     "iopub.execute_input": "2021-05-18T18:13:48.780473Z",
     "iopub.status.busy": "2021-05-18T18:13:48.779896Z",
     "iopub.status.idle": "2021-05-18T18:13:48.795196Z",
     "shell.execute_reply": "2021-05-18T18:13:48.795695Z"
    },
    "papermill": {
     "duration": 0.051028,
     "end_time": "2021-05-18T18:13:48.795889",
     "exception": false,
     "start_time": "2021-05-18T18:13:48.744861",
     "status": "completed"
    },
    "tags": []
   },
   "outputs": [],
   "source": [
    "# Compute confusion matrix for training and test datasets\n",
    "train_confu_matrix_best = confusion_matrix(train_data['fault'], train_predictions_best)\n",
    "test_confu_matrix_best = confusion_matrix(test_data['fault'], test_predictions_best)"
   ]
  },
  {
   "cell_type": "code",
   "execution_count": null,
   "id": "surface-vietnamese",
   "metadata": {
    "execution": {
     "iopub.execute_input": "2021-05-18T18:13:48.865336Z",
     "iopub.status.busy": "2021-05-18T18:13:48.864691Z",
     "iopub.status.idle": "2021-05-18T18:13:50.126773Z",
     "shell.execute_reply": "2021-05-18T18:13:50.127304Z"
    },
    "papermill": {
     "duration": 1.298203,
     "end_time": "2021-05-18T18:13:50.127485",
     "exception": false,
     "start_time": "2021-05-18T18:13:48.829282",
     "status": "completed"
    },
    "tags": []
   },
   "outputs": [],
   "source": [
    "plt.figure(1,figsize=(18,8))\n",
    "\n",
    "plt.subplot(121)\n",
    "sns.heatmap(train_confu_matrix_best, annot= True,fmt = \"d\",\n",
    "xticklabels=fault_type, yticklabels=fault_type, cmap = \"Blues\", cbar = False)\n",
    "plt.title('Training Confusion Matrix (best model)')\n",
    "plt.xlabel('Predicted')\n",
    "plt.ylabel('True')\n",
    "plt.subplot(122)\n",
    "\n",
    "plt.subplot(122)\n",
    "sns.heatmap(test_confu_matrix_best, annot = True,\n",
    "xticklabels=fault_type, yticklabels=fault_type, cmap = \"Blues\", cbar = False)\n",
    "plt.title('Test Confusion Matrix (best model)')\n",
    "plt.xlabel('Predicted')\n",
    "plt.ylabel('True')\n",
    "\n",
    "plt.show()"
   ]
  },
  {
   "cell_type": "markdown",
   "id": "norman-northeast",
   "metadata": {
    "papermill": {
     "duration": 0.033553,
     "end_time": "2021-05-18T18:13:50.195431",
     "exception": false,
     "start_time": "2021-05-18T18:13:50.161878",
     "status": "completed"
    },
    "tags": []
   },
   "source": [
    "### Compare with non optimized versions"
   ]
  },
  {
   "cell_type": "code",
   "execution_count": null,
   "id": "directed-greene",
   "metadata": {
    "execution": {
     "iopub.execute_input": "2021-05-18T18:13:50.266369Z",
     "iopub.status.busy": "2021-05-18T18:13:50.265743Z",
     "iopub.status.idle": "2021-05-18T18:13:50.298128Z",
     "shell.execute_reply": "2021-05-18T18:13:50.297585Z"
    },
    "papermill": {
     "duration": 0.068458,
     "end_time": "2021-05-18T18:13:50.298264",
     "exception": false,
     "start_time": "2021-05-18T18:13:50.229806",
     "status": "completed"
    },
    "tags": []
   },
   "outputs": [],
   "source": [
    "# Classification report (test set)\n",
    "class_report_best = classification_report(y_pred = test_predictions_best, y_true = test_data['fault'])\n",
    "print(class_report_best)"
   ]
  },
  {
   "cell_type": "code",
   "execution_count": null,
   "id": "lonely-heater",
   "metadata": {
    "execution": {
     "iopub.execute_input": "2021-05-18T18:13:50.371870Z",
     "iopub.status.busy": "2021-05-18T18:13:50.371034Z",
     "iopub.status.idle": "2021-05-18T18:13:50.374183Z",
     "shell.execute_reply": "2021-05-18T18:13:50.374648Z"
    },
    "papermill": {
     "duration": 0.041704,
     "end_time": "2021-05-18T18:13:50.374819",
     "exception": false,
     "start_time": "2021-05-18T18:13:50.333115",
     "status": "completed"
    },
    "tags": []
   },
   "outputs": [],
   "source": [
    "# Remember the metrics for the non-optimized model\n",
    "print(class_report)"
   ]
  },
  {
   "cell_type": "markdown",
   "id": "essential-rebate",
   "metadata": {
    "papermill": {
     "duration": 0.0346,
     "end_time": "2021-05-18T18:13:50.444572",
     "exception": false,
     "start_time": "2021-05-18T18:13:50.409972",
     "status": "completed"
    },
    "tags": []
   },
   "source": [
    "## Multinomial logistic regression\n",
    "This is the alternative model for comparing with SVC performance"
   ]
  },
  {
   "cell_type": "code",
   "execution_count": null,
   "id": "allied-czech",
   "metadata": {
    "execution": {
     "iopub.execute_input": "2021-05-18T18:13:50.531659Z",
     "iopub.status.busy": "2021-05-18T18:13:50.530542Z",
     "iopub.status.idle": "2021-05-18T18:13:50.701427Z",
     "shell.execute_reply": "2021-05-18T18:13:50.700923Z"
    },
    "papermill": {
     "duration": 0.221615,
     "end_time": "2021-05-18T18:13:50.701574",
     "exception": false,
     "start_time": "2021-05-18T18:13:50.479959",
     "status": "completed"
    },
    "tags": []
   },
   "outputs": [],
   "source": [
    "# Logistic regression classifier\n",
    "from sklearn.linear_model import LogisticRegression\n",
    "\n",
    "# Setup the model\n",
    "logis_model = LogisticRegression(multi_class='multinomial', solver='lbfgs', max_iter=1000)\n",
    "\n",
    "# Train the model\n",
    "logis_model.fit(train_data_scaled, train_data['fault'])"
   ]
  },
  {
   "cell_type": "code",
   "execution_count": null,
   "id": "inside-gazette",
   "metadata": {
    "execution": {
     "iopub.execute_input": "2021-05-18T18:13:50.776861Z",
     "iopub.status.busy": "2021-05-18T18:13:50.776093Z",
     "iopub.status.idle": "2021-05-18T18:13:50.779635Z",
     "shell.execute_reply": "2021-05-18T18:13:50.779015Z"
    },
    "papermill": {
     "duration": 0.043127,
     "end_time": "2021-05-18T18:13:50.779788",
     "exception": false,
     "start_time": "2021-05-18T18:13:50.736661",
     "status": "completed"
    },
    "tags": []
   },
   "outputs": [],
   "source": [
    "# Compute the predictions\n",
    "test_predictions_lr = logis_model.predict(test_data_scaled)"
   ]
  },
  {
   "cell_type": "code",
   "execution_count": null,
   "id": "coordinated-rapid",
   "metadata": {
    "execution": {
     "iopub.execute_input": "2021-05-18T18:13:50.863495Z",
     "iopub.status.busy": "2021-05-18T18:13:50.862595Z",
     "iopub.status.idle": "2021-05-18T18:13:50.865550Z",
     "shell.execute_reply": "2021-05-18T18:13:50.865040Z"
    },
    "papermill": {
     "duration": 0.046855,
     "end_time": "2021-05-18T18:13:50.865674",
     "exception": false,
     "start_time": "2021-05-18T18:13:50.818819",
     "status": "completed"
    },
    "tags": []
   },
   "outputs": [],
   "source": [
    "# Compute confusion matrix \n",
    "test_confu_matrix_lr = confusion_matrix(test_data['fault'], test_predictions_lr)"
   ]
  },
  {
   "cell_type": "code",
   "execution_count": null,
   "id": "selected-banking",
   "metadata": {
    "execution": {
     "iopub.execute_input": "2021-05-18T18:13:50.944524Z",
     "iopub.status.busy": "2021-05-18T18:13:50.943925Z",
     "iopub.status.idle": "2021-05-18T18:13:50.974043Z",
     "shell.execute_reply": "2021-05-18T18:13:50.973433Z"
    },
    "papermill": {
     "duration": 0.07261,
     "end_time": "2021-05-18T18:13:50.974172",
     "exception": false,
     "start_time": "2021-05-18T18:13:50.901562",
     "status": "completed"
    },
    "tags": []
   },
   "outputs": [],
   "source": [
    "# Classification report\n",
    "class_report_lr = classification_report(y_pred = test_predictions_lr, y_true = test_data['fault'])\n",
    "print(class_report_lr)"
   ]
  },
  {
   "cell_type": "code",
   "execution_count": null,
   "id": "analyzed-nerve",
   "metadata": {
    "execution": {
     "iopub.execute_input": "2021-05-18T18:13:51.053250Z",
     "iopub.status.busy": "2021-05-18T18:13:51.052573Z",
     "iopub.status.idle": "2021-05-18T18:13:51.056315Z",
     "shell.execute_reply": "2021-05-18T18:13:51.055815Z"
    },
    "papermill": {
     "duration": 0.045227,
     "end_time": "2021-05-18T18:13:51.056441",
     "exception": false,
     "start_time": "2021-05-18T18:13:51.011214",
     "status": "completed"
    },
    "tags": []
   },
   "outputs": [],
   "source": [
    "# Compute the predictions\n",
    "train_predictions_logis = logis_model.predict(train_data_scaled)\n",
    "test_predictions_logis = logis_model.predict(test_data_scaled)"
   ]
  },
  {
   "cell_type": "code",
   "execution_count": null,
   "id": "ruled-atlantic",
   "metadata": {
    "execution": {
     "iopub.execute_input": "2021-05-18T18:13:51.164767Z",
     "iopub.status.busy": "2021-05-18T18:13:51.157935Z",
     "iopub.status.idle": "2021-05-18T18:13:51.169148Z",
     "shell.execute_reply": "2021-05-18T18:13:51.169578Z"
    },
    "papermill": {
     "duration": 0.076443,
     "end_time": "2021-05-18T18:13:51.169757",
     "exception": false,
     "start_time": "2021-05-18T18:13:51.093314",
     "status": "completed"
    },
    "tags": []
   },
   "outputs": [],
   "source": [
    "# Classification report (test set)\n",
    "class_report_logis = classification_report(y_pred = test_predictions_logis, y_true = test_data['fault'])\n",
    "print(class_report_logis)"
   ]
  },
  {
   "cell_type": "code",
   "execution_count": null,
   "id": "induced-stake",
   "metadata": {
    "execution": {
     "iopub.execute_input": "2021-05-18T18:13:51.309660Z",
     "iopub.status.busy": "2021-05-18T18:13:51.309032Z",
     "iopub.status.idle": "2021-05-18T18:13:51.805426Z",
     "shell.execute_reply": "2021-05-18T18:13:51.805924Z"
    },
    "papermill": {
     "duration": 0.599211,
     "end_time": "2021-05-18T18:13:51.806085",
     "exception": false,
     "start_time": "2021-05-18T18:13:51.206874",
     "status": "completed"
    },
    "tags": []
   },
   "outputs": [],
   "source": [
    "plt.figure(1,figsize=(8,6))\n",
    "\n",
    "sns.heatmap(test_confu_matrix_lr, annot = True,\n",
    "xticklabels=fault_type, yticklabels=fault_type, cmap = \"Blues\", cbar = False)\n",
    "plt.title('Test Confusion Matrix (logistic regression)')\n",
    "plt.xlabel('Predicted')\n",
    "plt.ylabel('True')\n",
    "\n",
    "plt.show()"
   ]
  }
 ],
 "metadata": {
  "kernelspec": {
   "display_name": "mlearn",
   "language": "python",
   "name": "python3"
  },
  "language_info": {
   "codemirror_mode": {
    "name": "ipython",
    "version": 3
   },
   "file_extension": ".py",
   "mimetype": "text/x-python",
   "name": "python",
   "nbconvert_exporter": "python",
   "pygments_lexer": "ipython3",
   "version": "3.10.8"
  },
  "papermill": {
   "default_parameters": {},
   "duration": 35.863263,
   "end_time": "2021-05-18T18:13:53.330960",
   "environment_variables": {},
   "exception": null,
   "input_path": "__notebook__.ipynb",
   "output_path": "__notebook__.ipynb",
   "parameters": {},
   "start_time": "2021-05-18T18:13:17.467697",
   "version": "2.3.3"
  },
  "vscode": {
   "interpreter": {
    "hash": "568a6ae751fd6e62f855d3b85aebb8a31a96d83a4cd1f170dc912566c8777b57"
   }
  }
 },
 "nbformat": 4,
 "nbformat_minor": 5
}
